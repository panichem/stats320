{
  "cells": [
    {
      "cell_type": "markdown",
      "metadata": {
        "id": "AQKxSjYuTW8-"
      },
      "source": [
        "# Lab 0: PyTorch Primer\n",
        "\n",
        "We'll use Python and [PyTorch](https://pytorch.org/) for the labs in this course. This lab is to help you get up to speed. It will introduce:\n",
        "- **Tensors**: PyTorch's equivalent of NumPy arrays, but with more bells and whistles for running on GPUs and supporting automatic differentiation.\n",
        "- **Broadcasting and Fancy Indexing**: If you're coming from Matlab or NumPy, you probably know that you can avoid costly for-loops by broadcasting computation over dimensions of an array (here, tensor) and using fancy indexing tricks. \n",
        "- **Distributions**: PyTorch has an excellent library of distributions for sampling, evaluating log probabilities, and much more. \n",
        "\n",
        "We'll introduce these concepts in the context of the Poisson mixture model from class (c.f. [Probabilistic Modeling](../lectures/02_probabilistic_modeling.ipynb))."
      ]
    },
    {
      "cell_type": "code",
      "execution_count": 2,
      "metadata": {
        "id": "1k-Y6he3TW8_"
      },
      "outputs": [],
      "source": [
        "import torch\n",
        "import torch.distributions as dist\n",
        "import matplotlib.pyplot as plt"
      ]
    },
    {
      "cell_type": "markdown",
      "metadata": {
        "id": "FUwMfzL_TW9A"
      },
      "source": [
        "## 1. Constructing Tensors\n",
        "\n",
        "Tensors are PyTorch's equivalent of NumPy arrays. The PyTorch documentation already has a [great tutorial](https://pytorch.org/tutorials/beginner/basics/tensorqs_tutorial.html) on tensors. Rather than recreate the wheel, please start by reading that.\n",
        "\n",
        "Once you've read through that, try using torch functions like `arange`, `reshape`, etc. to construct the following tensors."
      ]
    },
    {
      "cell_type": "markdown",
      "metadata": {
        "id": "vkUYC4fBTW9C"
      },
      "source": [
        "### Problem 1.1\n",
        "\n",
        "Construct the following tensor:\n",
        "\n",
        "```\n",
        "tensor([[0, 1, 2],\n",
        "        [3, 4, 5],\n",
        "        [6, 7, 8]])\n",
        "```\n",
        "\n",
        "_Note: For this problems and the ones below, don't literally construct the tensor from the specified list. Use torch functions._\n",
        "\n",
        "---"
      ]
    },
    {
      "cell_type": "code",
      "execution_count": null,
      "metadata": {
        "colab": {
          "base_uri": "https://localhost:8080/"
        },
        "id": "3THTFL7-TW9C",
        "outputId": "0480dc3c-1930-4d6f-ac88-385c9d87ba53"
      },
      "outputs": [
        {
          "output_type": "stream",
          "name": "stdout",
          "text": [
            "tensor([[0, 1, 2],\n",
            "        [3, 4, 5],\n",
            "        [6, 7, 8]])\n"
          ]
        }
      ],
      "source": [
        "# YOUR CODE HERE\n",
        "\n",
        "data = torch.arange(9)\n",
        "data = torch.reshape(data, (3,3))\n",
        "print(data)"
      ]
    },
    {
      "cell_type": "markdown",
      "metadata": {
        "id": "2Dze1qGUTW9D"
      },
      "source": [
        "### Problem 1.2\n",
        "\n",
        "Construct the following tensor:\n",
        "\n",
        "```\n",
        "tensor([[0, 3, 6],\n",
        "        [1, 4, 7],\n",
        "        [2, 5, 8]])\n",
        "```\n",
        "\n",
        "---"
      ]
    },
    {
      "cell_type": "code",
      "execution_count": null,
      "metadata": {
        "colab": {
          "base_uri": "https://localhost:8080/"
        },
        "id": "WFl-jVodTW9D",
        "outputId": "008a6e3c-e313-4834-c103-8ae171ca118e"
      },
      "outputs": [
        {
          "output_type": "stream",
          "name": "stdout",
          "text": [
            "tensor([[0, 3, 6],\n",
            "        [1, 4, 7],\n",
            "        [2, 5, 8]])\n"
          ]
        }
      ],
      "source": [
        "# YOUR CODE HERE\n",
        "\n",
        "data = torch.arange(9)\n",
        "data = torch.reshape(data, (3,3))\n",
        "data = torch.transpose(data, 0, 1)\n",
        "print(data)"
      ]
    },
    {
      "cell_type": "markdown",
      "metadata": {
        "id": "kMGrGEFKTW9E"
      },
      "source": [
        "### Problem 1.3\n",
        "\n",
        "Construct the following tensor:\n",
        "\n",
        "```\n",
        "tensor([0, 1, 2, 3, 4, 0, 1, 2, 3, 4, 0, 1, 2, 3, 4])\n",
        "```\n",
        "\n",
        "_Note: Here the sequence is repeated 3 times. Does your code support arbitrary numbers of repeats?_\n",
        "\n",
        "---"
      ]
    },
    {
      "cell_type": "code",
      "execution_count": null,
      "metadata": {
        "colab": {
          "base_uri": "https://localhost:8080/"
        },
        "id": "LVFQcDzRTW9F",
        "outputId": "324b478d-65ee-4026-b573-9abb44284192"
      },
      "outputs": [
        {
          "output_type": "stream",
          "name": "stdout",
          "text": [
            "tensor([[0, 1, 2, 3, 4, 0, 1, 2, 3, 4, 0, 1, 2, 3, 4]])\n"
          ]
        }
      ],
      "source": [
        "# YOUR CODE HERE\n",
        "\n",
        "nRepeats = 3\n",
        "data = torch.arange(5)\n",
        "data = data.repeat(1,nRepeats)\n",
        "print(data)"
      ]
    },
    {
      "cell_type": "markdown",
      "metadata": {
        "id": "IpzLFNJATW9G"
      },
      "source": [
        "### Problem 1.4\n",
        "\n",
        "Construct the following tensor:\n",
        "\n",
        "```\n",
        "tensor([[0, 1, 2, 3, 4],\n",
        "        [0, 1, 2, 3, 4],\n",
        "        [0, 1, 2, 3, 4]])\n",
        "```\n",
        "\n",
        "---"
      ]
    },
    {
      "cell_type": "code",
      "execution_count": null,
      "metadata": {
        "colab": {
          "base_uri": "https://localhost:8080/"
        },
        "id": "GaRhzGJfTW9G",
        "outputId": "5614ad7b-b876-4de7-d716-a3b39f249c47"
      },
      "outputs": [
        {
          "output_type": "stream",
          "name": "stdout",
          "text": [
            "tensor([[0, 1, 2, 3, 4],\n",
            "        [0, 1, 2, 3, 4],\n",
            "        [0, 1, 2, 3, 4]])\n"
          ]
        }
      ],
      "source": [
        "# YOUR CODE HERE\n",
        "\n",
        "nRepeats = 3\n",
        "data = torch.arange(5)\n",
        "data = data.repeat(nRepeats,1)\n",
        "print(data)"
      ]
    },
    {
      "cell_type": "markdown",
      "metadata": {
        "id": "ZqY4xoiHTW9H"
      },
      "source": [
        "### Problem 1.5\n",
        "\n",
        "Construct the following tensor:\n",
        "\n",
        "```\n",
        "tensor([[ 1., -2.,  0.,  0.],\n",
        "        [-2.,  1., -2.,  0.],\n",
        "        [ 0., -2.,  1., -2.],\n",
        "        [ 0.,  0., -2.,  1.]])\n",
        "```\n",
        "\n",
        "---"
      ]
    },
    {
      "cell_type": "code",
      "execution_count": null,
      "metadata": {
        "colab": {
          "base_uri": "https://localhost:8080/"
        },
        "id": "XznsxMnaTW9H",
        "outputId": "5d00eb1d-d948-463a-e8a1-bf09884a73a3"
      },
      "outputs": [
        {
          "output_type": "stream",
          "name": "stdout",
          "text": [
            "tensor([[ 1., -2.,  0.,  0.],\n",
            "        [-2.,  1., -2.,  0.],\n",
            "        [ 0., -2.,  1., -2.],\n",
            "        [ 0.,  0., -2.,  1.]])\n"
          ]
        }
      ],
      "source": [
        "# YOUR CODE HERE\n",
        "\n",
        "data = torch.eye(4)\n",
        "torch.diagonal(data, offset=1)[...] = -2\n",
        "torch.diagonal(data, offset=-1)[...] = -2 \n",
        "print(data)"
      ]
    },
    {
      "cell_type": "markdown",
      "metadata": {
        "id": "vFXHSZ6YTW9I"
      },
      "source": [
        "### Problem 1.6\n",
        "\n",
        "Construct the following tensor:\n",
        "\n",
        "```\n",
        "tensor([[[[0, 1, 2]]]])\n",
        "```\n",
        "\n",
        "---"
      ]
    },
    {
      "cell_type": "code",
      "execution_count": null,
      "metadata": {
        "colab": {
          "base_uri": "https://localhost:8080/"
        },
        "id": "0Dg5OGqZTW9J",
        "outputId": "7a6ef7f1-d389-444b-bdd1-ad386653adef"
      },
      "outputs": [
        {
          "output_type": "stream",
          "name": "stdout",
          "text": [
            "tensor([[[[0, 1, 2]]]])\n"
          ]
        }
      ],
      "source": [
        "# YOUR CODE HERE\n",
        "\n",
        "data = torch.arange(3)\n",
        "data = torch.reshape(data,(1,1,1,3))\n",
        "\n",
        "print(data)\n"
      ]
    },
    {
      "cell_type": "markdown",
      "metadata": {
        "id": "SWAzJ_z-TW9J"
      },
      "source": [
        "## 2. Broadcasting and Fancy Indexing\n",
        "\n",
        "Your life will be much easier and your code will be much faster once you get the hang of broadcasting and indexing. Start by reading the  [PyTorch documentation](https://pytorch.org/docs/stable/notes/broadcasting.html)."
      ]
    },
    {
      "cell_type": "markdown",
      "metadata": {
        "id": "V5b20pdjTW9J"
      },
      "source": [
        "### Problem 2.1\n",
        "\n",
        "Construct a tensor `X` where `X[i,j] = i + j` by broadcasting a sum of two 1-dimensional tensors.\n",
        "\n",
        "For example, broadcast a sum to construct the following tensor, \n",
        "\n",
        "```\n",
        "tensor([[0, 1, 2],\n",
        "        [1, 2, 3],\n",
        "        [2, 3, 4],\n",
        "        [3, 4, 5]])\n",
        "```        \n",
        "\n",
        "---"
      ]
    },
    {
      "cell_type": "code",
      "execution_count": 3,
      "metadata": {
        "colab": {
          "base_uri": "https://localhost:8080/"
        },
        "id": "kReTe7UQTW9K",
        "outputId": "1c17109b-408a-48d4-e1fb-60c48af424c9"
      },
      "outputs": [
        {
          "output_type": "stream",
          "name": "stdout",
          "text": [
            "tensor([[0, 1, 2],\n",
            "        [1, 2, 3],\n",
            "        [2, 3, 4],\n",
            "        [3, 4, 5]])\n"
          ]
        }
      ],
      "source": [
        "# YOUR CODE HERE\n",
        "\n",
        "row = torch.arange(3)\n",
        "row = torch.reshape(row,(1,3))\n",
        "\n",
        "col = torch.arange(4)\n",
        "col = torch.reshape(col,(4,1))\n",
        "\n",
        "#print(row)\n",
        "#print(col)\n",
        "\n",
        "data = row + col\n",
        "print(data)"
      ]
    },
    {
      "cell_type": "markdown",
      "metadata": {
        "id": "VHkVCnoyTW9K"
      },
      "source": [
        "### Problem 2.2\n",
        "\n",
        "Compute a distance matrix `D` where `D[i,j]` is the Euclidean distance between `X[i]` and `X[j]`, with\n",
        "\n",
        "```\n",
        "X = torch.arange(10, dtype=float).reshape(5, 2)\n",
        "```\n",
        "\n",
        "Your answer should be,\n",
        "\n",
        "```\n",
        "tensor([[ 0.0000,  2.8284,  5.6569,  8.4853, 11.3137],\n",
        "        [ 2.8284,  0.0000,  2.8284,  5.6569,  8.4853],\n",
        "        [ 5.6569,  2.8284,  0.0000,  2.8284,  5.6569],\n",
        "        [ 8.4853,  5.6569,  2.8284,  0.0000,  2.8284],\n",
        "        [11.3137,  8.4853,  5.6569,  2.8284,  0.0000]])\n",
        "```        \n",
        "\n",
        "---"
      ]
    },
    {
      "cell_type": "code",
      "execution_count": null,
      "metadata": {
        "id": "zDiFvZ5aTW9L",
        "colab": {
          "base_uri": "https://localhost:8080/"
        },
        "outputId": "f24b001d-47e0-4e46-f8b9-410da3d84a8a"
      },
      "outputs": [
        {
          "output_type": "stream",
          "name": "stdout",
          "text": [
            "tensor([[ 0.0000,  2.8284,  5.6569,  8.4853, 11.3137],\n",
            "        [ 2.8284,  0.0000,  2.8284,  5.6569,  8.4853],\n",
            "        [ 5.6569,  2.8284,  0.0000,  2.8284,  5.6569],\n",
            "        [ 8.4853,  5.6569,  2.8284,  0.0000,  2.8284],\n",
            "        [11.3137,  8.4853,  5.6569,  2.8284,  0.0000]], dtype=torch.float64)\n",
            "tensor([[ 0.0000,  2.8284,  5.6569,  8.4853, 11.3137],\n",
            "        [ 2.8284,  0.0000,  2.8284,  5.6569,  8.4853],\n",
            "        [ 5.6569,  2.8284,  0.0000,  2.8284,  5.6569],\n",
            "        [ 8.4853,  5.6569,  2.8284,  0.0000,  2.8284],\n",
            "        [11.3137,  8.4853,  5.6569,  2.8284,  0.0000]], dtype=torch.float64)\n"
          ]
        }
      ],
      "source": [
        "X = torch.arange(10, dtype=float).reshape(5, 2)\n",
        "\n",
        "# YOUR CODE HERE\n",
        "x  = torch.reshape(X[:,0],(5,1))\n",
        "xt = torch.reshape(X[:,0],(1,5))\n",
        "dx = x-xt\n",
        "\n",
        "y  = torch.reshape(X[:,1],(5,1))\n",
        "yt = torch.reshape(X[:,1],(1,5))\n",
        "dy = y-yt\n",
        "\n",
        "D = torch.sqrt( torch.square(dx) + torch.square(dy))\n",
        "print(D)\n",
        "\n",
        "#or, even simpler: \n",
        "M1 = torch.reshape(X,(5,1,2))\n",
        "M2 = torch.reshape(X,(1,5,2))\n",
        "D = torch.sqrt(torch.sum(torch.square(M1-M2),2))\n",
        "print(D)\n"
      ]
    },
    {
      "cell_type": "markdown",
      "metadata": {
        "id": "0nsk3SPkTW9L"
      },
      "source": [
        "### Problem 2.3 \n",
        "\n",
        "Extract the submatrix of rows `[2,3]` and columns `[0,1,4]` of the tensor,\n",
        "```\n",
        "A = torch.arange(25).reshape(5, 5)\n",
        "```\n",
        "\n",
        "Your answer should be,\n",
        "```\n",
        "tensor([[10, 11, 14],\n",
        "        [15, 16, 19]])\n",
        "```\n",
        "\n",
        "---"
      ]
    },
    {
      "cell_type": "code",
      "execution_count": 26,
      "metadata": {
        "id": "WwbHZfVcTW9L",
        "colab": {
          "base_uri": "https://localhost:8080/"
        },
        "outputId": "edf69a81-7789-4b2e-9d82-a8f4788f4cb1"
      },
      "outputs": [
        {
          "output_type": "stream",
          "name": "stdout",
          "text": [
            "tensor([[10, 11, 14],\n",
            "        [15, 16, 19]])\n"
          ]
        }
      ],
      "source": [
        "A = torch.arange(25).reshape(5, 5)\n",
        "# YOUR CODE HERE\n",
        "r = [2,3]\n",
        "c = [0,1,4]\n",
        "data = A[r,:][:,c]\n",
        "print(data)\n"
      ]
    },
    {
      "cell_type": "markdown",
      "metadata": {
        "id": "y6dSTTG4TW9L"
      },
      "source": [
        "### Problem 2.4\n",
        "\n",
        "Create a binary mask matrix `M` of the same shape as `A` where `M[i,j]` is True if and only if `A[i,j]` is divisible by 7. Let\n",
        "\n",
        "```\n",
        "A = torch.arange(25).reshape(5, 5)\n",
        "```\n",
        "\n",
        "Your answer should be \n",
        "\n",
        "```\n",
        "tensor([[ True, False, False, False, False],\n",
        "        [False, False,  True, False, False],\n",
        "        [False, False, False, False,  True],\n",
        "        [False, False, False, False, False],\n",
        "        [False,  True, False, False, False]])\n",
        "```\n",
        "\n",
        "---"
      ]
    },
    {
      "cell_type": "code",
      "execution_count": null,
      "metadata": {
        "id": "BkeWgQ7eTW9M",
        "colab": {
          "base_uri": "https://localhost:8080/"
        },
        "outputId": "651fdca4-fbcc-4637-d5c7-e1f23eeb33a9"
      },
      "outputs": [
        {
          "output_type": "stream",
          "name": "stdout",
          "text": [
            "tensor([[ True, False, False, False, False],\n",
            "        [False, False,  True, False, False],\n",
            "        [False, False, False, False,  True],\n",
            "        [False, False, False, False, False],\n",
            "        [False,  True, False, False, False]])\n"
          ]
        }
      ],
      "source": [
        "A = torch.arange(25).reshape(5, 5)\n",
        "# YOUR CODE HERE\n",
        "M = torch.remainder(A,7) == 0\n",
        "print(M)"
      ]
    },
    {
      "cell_type": "markdown",
      "metadata": {
        "id": "_hkNT1wuTW9N"
      },
      "source": [
        "### Problem 2.5\n",
        "\n",
        "Add one to the entries in `A` that are divisible by 7. After updating in place, `A` should be,\n",
        "\n",
        "```\n",
        "tensor([[ 1,  1,  2,  3,  4],\n",
        "        [ 5,  6,  8,  8,  9],\n",
        "        [10, 11, 12, 13, 15],\n",
        "        [15, 16, 17, 18, 19],\n",
        "        [20, 22, 22, 23, 24]])\n",
        "```\n",
        "\n",
        "---"
      ]
    },
    {
      "cell_type": "code",
      "execution_count": null,
      "metadata": {
        "id": "oeuo-a1QTW9N",
        "colab": {
          "base_uri": "https://localhost:8080/"
        },
        "outputId": "65a64b63-b381-427c-abe2-28ed3f54d394"
      },
      "outputs": [
        {
          "output_type": "stream",
          "name": "stdout",
          "text": [
            "tensor([[ 1,  1,  2,  3,  4],\n",
            "        [ 5,  6,  8,  8,  9],\n",
            "        [10, 11, 12, 13, 15],\n",
            "        [15, 16, 17, 18, 19],\n",
            "        [20, 22, 22, 23, 24]])\n"
          ]
        }
      ],
      "source": [
        "# YOUR CODE HERE\n",
        "A = torch.arange(25).reshape(5, 5)\n",
        "M = torch.remainder(A,7) == 0\n",
        "A[M] = A[M] + 1\n",
        "print(A)"
      ]
    },
    {
      "cell_type": "markdown",
      "metadata": {
        "id": "_8p00F8ZTW9N"
      },
      "source": [
        "## 3. Distributions\n",
        "\n",
        "PyTorch has an excellent library of distributions in `torch.distributions`. Read the docs [here](https://pytorch.org/docs/stable/distributions.html).\n",
        "\n",
        "We will use these distribution objects to construct and fit a Poisson mixture model."
      ]
    },
    {
      "cell_type": "markdown",
      "metadata": {
        "id": "Se-rVBiETW9N"
      },
      "source": [
        "### Problem 3.1\n",
        "\n",
        "Draw 50 samples from a Poisson distribution with rate 10.\n",
        "\n",
        "---"
      ]
    },
    {
      "cell_type": "code",
      "execution_count": 47,
      "metadata": {
        "id": "lThV_urBTW9O",
        "colab": {
          "base_uri": "https://localhost:8080/",
          "height": 265
        },
        "outputId": "ab9a0864-87bb-409a-9723-555ce09602b0"
      },
      "outputs": [
        {
          "output_type": "display_data",
          "data": {
            "text/plain": [
              "<Figure size 432x288 with 1 Axes>"
            ],
            "image/png": "[encoded data removed]"
          },
          "metadata": {
            "needs_background": "light"
          }
        }
      ],
      "source": [
        "# YOUR CODE HERE\n",
        "rate = 10\n",
        "nsamples = 50\n",
        "m = dist.Poisson(rate)\n",
        "data = m.sample([nsamples])\n",
        "xe = torch.arange(-.5,20.5,1)\n",
        "plt.hist(data,xe);"
      ]
    },
    {
      "cell_type": "markdown",
      "metadata": {
        "id": "ROT1xHsVTW9O"
      },
      "source": [
        "### Problem 3.2\n",
        "\n",
        "One of the awesome thing about PyTorch distributions is that they support broadcasting too. \n",
        "\n",
        "Construct a matrix `P` where `P[i,j]` equals $\\mathrm{Pois}(x=j; \\lambda=i)$ for $i=0,\\ldots,4$ and $j=0,\\ldots,4$.\n",
        "\n",
        "Your answer should be,\n",
        "```\n",
        "tensor([[1.0000, 0.0000, 0.0000, 0.0000, 0.0000],\n",
        "        [0.3679, 0.3679, 0.1839, 0.0613, 0.0153],\n",
        "        [0.1353, 0.2707, 0.2707, 0.1804, 0.0902],\n",
        "        [0.0498, 0.1494, 0.2240, 0.2240, 0.1680],\n",
        "        [0.0183, 0.0733, 0.1465, 0.1954, 0.1954]])\n",
        "```\n",
        "\n",
        "---"
      ]
    },
    {
      "cell_type": "code",
      "execution_count": null,
      "metadata": {
        "id": "tsuTYVryTW9O",
        "colab": {
          "base_uri": "https://localhost:8080/"
        },
        "outputId": "118fae16-9825-4a3f-956b-c5c9a00ee7e3"
      },
      "outputs": [
        {
          "output_type": "stream",
          "name": "stdout",
          "text": [
            "tensor([[1.0000, 0.0000, 0.0000, 0.0000, 0.0000],\n",
            "        [0.3679, 0.3679, 0.1839, 0.0613, 0.0153],\n",
            "        [0.1353, 0.2707, 0.2707, 0.1804, 0.0902],\n",
            "        [0.0498, 0.1494, 0.2240, 0.2240, 0.1680],\n",
            "        [0.0183, 0.0733, 0.1465, 0.1954, 0.1954]])\n"
          ]
        }
      ],
      "source": [
        "# YOUR CODE HERE\n",
        "\n",
        "i = torch.arange(0,5,1)\n",
        "i = torch.reshape(i,(5,1))\n",
        "\n",
        "j = torch.arange(0,5,1)\n",
        "j = torch.reshape(j,(1,5))\n",
        "\n",
        "LP = dist.Poisson(i).log_prob(j)\n",
        "P = torch.exp(LP)\n",
        "print(P)"
      ]
    },
    {
      "cell_type": "markdown",
      "metadata": {
        "id": "4EHS2e9ETW9P"
      },
      "source": [
        "### Problem 3.3\n",
        "\n",
        "Evaluate the log probability of the points `[1.5, 3., 4.2]` under a gamma distribution with shape (aka concentration) 2.0 and inverse scale (aka rate) 1.5.\n",
        "\n",
        "Your answer should be,\n",
        "\n",
        "```\n",
        "tensor([-1.0336, -2.5905, -4.0540])\n",
        "```\n",
        "\n",
        "---"
      ]
    },
    {
      "cell_type": "code",
      "execution_count": null,
      "metadata": {
        "id": "nh1-uMmuTW9P",
        "outputId": "090dbf5b-4b0e-43b5-d1c8-d4d53e481548",
        "colab": {
          "base_uri": "https://localhost:8080/"
        }
      },
      "outputs": [
        {
          "output_type": "stream",
          "name": "stdout",
          "text": [
            "tensor([-1.0336, -2.5905, -4.0540])\n"
          ]
        }
      ],
      "source": [
        "# YOUR CODE HERE\n",
        "LP = dist.Gamma(2,1.5).log_prob([1.5, 3, 4.2])\n",
        "print(LP)\n"
      ]
    },
    {
      "cell_type": "markdown",
      "metadata": {
        "id": "yebJXS9PTW9P"
      },
      "source": [
        "### Problem 3.4\n",
        "\n",
        "Draw 1000 samples from a Poisson mixture model,\n",
        "\n",
        "$$\n",
        "\\begin{align*}\n",
        "p(x) &= \\frac{1}{2} \\mathrm{Pois}(10.0) + \\frac{1}{2} \\mathrm{Pois}(2.0)\n",
        "\\end{align*}\n",
        "$$\n",
        "\n",
        "Use `matplotlib.pyplot.hist` to plot a normalized histogram of the samples.\n",
        "\n",
        "---"
      ]
    },
    {
      "cell_type": "code",
      "execution_count": 81,
      "metadata": {
        "id": "TQDSunXDTW9Q",
        "outputId": "e2d01e63-83fd-44e8-a4d6-ed9bf6aab777",
        "colab": {
          "base_uri": "https://localhost:8080/",
          "height": 265
        }
      },
      "outputs": [
        {
          "output_type": "display_data",
          "data": {
            "text/plain": [
              "<Figure size 432x288 with 1 Axes>"
            ],
            "image/png": "[encoded data removed]"
          },
          "metadata": {
            "needs_background": "light"
          }
        }
      ],
      "source": [
        "# YOUR CODE HERE\n",
        "\n",
        "rates = torch.asarray([10.0, 2.0])\n",
        "nsamples = 1000\n",
        "\n",
        "cat = dist.Categorical(torch.asarray([.5, .5])) #equally wt dists\n",
        "states = cat.sample(sample_shape=(nsamples,)) \n",
        "data = dist.Poisson(rates[states]).sample()\n",
        "xe = torch.arange(-.5,20.5,1)\n",
        "plt.hist(data,xe);\n",
        "\n"
      ]
    },
    {
      "cell_type": "markdown",
      "metadata": {
        "id": "bXOp_yBHTW9Q"
      },
      "source": [
        "## 4. MAP estimation"
      ]
    },
    {
      "cell_type": "markdown",
      "metadata": {
        "id": "41BtsE60TW9Q"
      },
      "source": [
        "### Problem 4.1\n",
        "\n",
        "Let `data` be the samples from above. Assume there are $K = 2$ clusters and the prior cluster probabilities $[\\tfrac{1}{2}, \\tfrac{1}{2}]$ are known. Complete the code below to perform MAP estimation.\n",
        "\n",
        "---\n"
      ]
    },
    {
      "cell_type": "code",
      "execution_count": null,
      "metadata": {
        "id": "-aMbgxrUTW9R"
      },
      "outputs": [],
      "source": [
        "def update_assignments(data, rates, probs):\n",
        "    \"\"\"Update the cluster assignments ($z$) given the data, rates, \n",
        "    and cluster probabilities.\n",
        "\n",
        "    Args:\n",
        "        data: shape `(N,)` tensor of counts\n",
        "        rates: shape `(K,)` tensor of nonnegative rates for each cluster.\n",
        "        probs: shape `(K,)` tensor of cluster probabilities\n",
        "        \n",
        "    Returns:\n",
        "        assignments: shape `(N,)` tensor of integer cluster assignments\n",
        "    \"\"\"\n",
        "    ##\n",
        "    # YOUR CODE HERE\n",
        "    ##\n",
        "    return assignments\n",
        "\n",
        "def update_rates(data, assignments, shape=1.0, inv_scale=1.0):\n",
        "    \"\"\"Update the rates for each cluster under a gamma prior.\n",
        "\n",
        "    Args:\n",
        "        data: shape `(N,)` tensor of counts\n",
        "        assignments: shape `(N,)` tensor of integer cluster assignments\n",
        "        shape: shape (aka concentration) of gamma prior. Defaults to 1.0.\n",
        "        inv_scale: inverse scale (aka rate) of gamma prior. Defaults to 1.0.\n",
        "        \n",
        "    Returns:\n",
        "        rates: shape `(K,)` tensor of updated rates for each cluster\n",
        "    \"\"\"\n",
        "    ##\n",
        "    # YOUR CODE HERE\n",
        "    ##\n",
        "    return rates\n",
        "    \n",
        "\n",
        "def log_joint(data, assignments, rates, probs, shape=1.0, inv_scale=1.0):\n",
        "    \"\"\"_summary_\n",
        "\n",
        "    Args:\n",
        "        data: shape `(N,)` tensor of counts\n",
        "        assignments: shape `(N,)` tensor of integer cluster assignments\n",
        "        rates: shape `(K,)` tensor of updated rates for each cluster\n",
        "        probs: shape `(K,)` tensor of cluster probabilities\n",
        "        shape: shape (aka concentration) of gamma prior. Defaults to 1.0.\n",
        "        inv_scale: inverse scale (aka rate) of gamma prior. Defaults to 1.0.\n",
        "        \n",
        "    Returns:\n",
        "        lp: scalar log joint probability under the mixture model\n",
        "    \"\"\"\n",
        "    ###\n",
        "    # YOUR CODE HERE\n",
        "    ##\n",
        "    return lp\n",
        "    \n",
        "# Run coordinate ascent for some number of iterations, starting\n",
        "# with random cluster assignments\n",
        "probs = torch.ones(2) / 2.0\n",
        "assignments = torch.randint(0, 2, data.shape)\n",
        "rates = 10 * torch.rand(2)\n",
        "\n",
        "lps = []\n",
        "for i in range(20):\n",
        "    lps.append(log_joint(data, assignments, rates, probs))\n",
        "    rates = update_rates(data, assignments)\n",
        "    assignments = update_assignments(data, rates, probs)\n",
        "    \n",
        "plt.plot(lps)\n",
        "plt.xlabel(\"iteration\")\n",
        "plt.ylabel(\"log joint probability\")\n",
        "\n",
        "print(\"estimated rates:\", rates)"
      ]
    },
    {
      "cell_type": "markdown",
      "metadata": {
        "id": "k-kyiNuMTW9R"
      },
      "source": [
        "### Problem 4.2 (Bonus)\n",
        "\n",
        "Now consider a more general model in which \n",
        "\n",
        "$$\n",
        "z_n \\sim \\mathrm{Cat}(\\boldsymbol{\\pi})\n",
        "$$\n",
        "\n",
        "where the prior cluster probabilities $\\boldsymbol{\\pi}$ are unknown. (Above, we assumed they were known to be $\\boldsymbol{\\pi} = [\\tfrac{1}{2}, \\tfrac{1}{2}]$.) Derive and implement a coordinate ascent algorithm for MAP estimation of $\\mathbf{z}_{\\mathsf{MAP}}$, $\\boldsymbol{\\lambda}_{\\mathsf{MAP}}$, and $\\boldsymbol{\\pi}_{\\mathsf{MAP}}$.\n"
      ]
    }
  ],
  "metadata": {
    "kernelspec": {
      "display_name": "Python 3",
      "language": "python",
      "name": "python3"
    },
    "language_info": {
      "codemirror_mode": {
        "name": "ipython",
        "version": 3
      },
      "file_extension": ".py",
      "mimetype": "text/x-python",
      "name": "python",
      "nbconvert_exporter": "python",
      "pygments_lexer": "ipython3",
      "version": "3.7.11 (default, Jul 27 2021, 07:03:16) \n[Clang 10.0.0 ]"
    },
    "orig_nbformat": 4,
    "vscode": {
      "interpreter": {
        "hash": "5b28c5bd4ee93d765ebe901023d5522822fb8ad083dac3187c5545022f913719"
      }
    },
    "colab": {
      "provenance": []
    }
  },
  "nbformat": 4,
  "nbformat_minor": 0
}